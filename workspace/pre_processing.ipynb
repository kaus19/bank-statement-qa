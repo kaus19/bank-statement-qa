{
 "cells": [
  {
   "cell_type": "code",
   "execution_count": 1,
   "metadata": {},
   "outputs": [
    {
     "name": "stdout",
     "output_type": "stream",
     "text": [
      "Requirement already satisfied: pdfplumber in ./venv/lib/python3.12/site-packages (0.11.5)\n",
      "Requirement already satisfied: pdfminer.six==20231228 in ./venv/lib/python3.12/site-packages (from pdfplumber) (20231228)\n",
      "Requirement already satisfied: Pillow>=9.1 in ./venv/lib/python3.12/site-packages (from pdfplumber) (11.1.0)\n",
      "Requirement already satisfied: pypdfium2>=4.18.0 in ./venv/lib/python3.12/site-packages (from pdfplumber) (4.30.1)\n",
      "Requirement already satisfied: charset-normalizer>=2.0.0 in ./venv/lib/python3.12/site-packages (from pdfminer.six==20231228->pdfplumber) (3.4.1)\n",
      "Requirement already satisfied: cryptography>=36.0.0 in ./venv/lib/python3.12/site-packages (from pdfminer.six==20231228->pdfplumber) (44.0.0)\n",
      "Requirement already satisfied: cffi>=1.12 in ./venv/lib/python3.12/site-packages (from cryptography>=36.0.0->pdfminer.six==20231228->pdfplumber) (1.17.1)\n",
      "Requirement already satisfied: pycparser in ./venv/lib/python3.12/site-packages (from cffi>=1.12->cryptography>=36.0.0->pdfminer.six==20231228->pdfplumber) (2.22)\n",
      "\n",
      "\u001b[1m[\u001b[0m\u001b[34;49mnotice\u001b[0m\u001b[1;39;49m]\u001b[0m\u001b[39;49m A new release of pip is available: \u001b[0m\u001b[31;49m23.2.1\u001b[0m\u001b[39;49m -> \u001b[0m\u001b[32;49m24.3.1\u001b[0m\n",
      "\u001b[1m[\u001b[0m\u001b[34;49mnotice\u001b[0m\u001b[1;39;49m]\u001b[0m\u001b[39;49m To update, run: \u001b[0m\u001b[32;49mpip install --upgrade pip\u001b[0m\n"
     ]
    }
   ],
   "source": [
    "!pip install pdfplumber"
   ]
  },
  {
   "cell_type": "code",
   "execution_count": 2,
   "metadata": {},
   "outputs": [],
   "source": [
    "import pdfplumber\n",
    "import os\n",
    "import csv\n",
    "import logging"
   ]
  },
  {
   "cell_type": "code",
   "execution_count": 3,
   "metadata": {},
   "outputs": [],
   "source": [
    "from dotenv import load_dotenv\n",
    "\n",
    "load_dotenv()\n",
    "\n",
    "input_path = os.getenv(\"INPUT_PATH\")\n",
    "output_path = os.getenv(\"OUTPUT_PATH\")\n",
    "password = os.getenv(\"PASSWORD\")"
   ]
  },
  {
   "cell_type": "code",
   "execution_count": 4,
   "metadata": {},
   "outputs": [
    {
     "data": {
      "text/plain": [
       "'./archive/sample.pdf'"
      ]
     },
     "execution_count": 4,
     "metadata": {},
     "output_type": "execute_result"
    }
   ],
   "source": [
    "input_path"
   ]
  },
  {
   "cell_type": "code",
   "execution_count": 5,
   "metadata": {},
   "outputs": [],
   "source": [
    "def extract_tables_from_pdf(pdf_path):\n",
    "    try:\n",
    "        with pdfplumber.open(pdf_path) as pdf:\n",
    "            # # Extract text from the first page\n",
    "            # first_page = pdf.pages[0]\n",
    "            # text = first_page.extract_text()\n",
    "\n",
    "            # # Assuming the heading is the first line of text in the PDF\n",
    "            # heading = text.split('\\n')[0]\n",
    "            # cleaned_heading = re.sub(r'[\\\\/*?:\"<>|]', \"\", heading)\n",
    "\n",
    "            # Define the output CSV file path\n",
    "            pdf_pathghh = pdf_path.split('/')[-1].split('_')[1]\n",
    "            csv_filename = f\"{pdf_pathghh}.csv\"\n",
    "            tables = []\n",
    "            for page in pdf.pages:\n",
    "                table = page.extract_table()\n",
    "                if table:\n",
    "                    tables.append(table)\n",
    "            return tables, csv_filename\n",
    "    except Exception as e:\n",
    "        logging.error(f\"Error occured extracting from pdf {pdf_path}\",{e})"
   ]
  },
  {
   "cell_type": "code",
   "execution_count": 6,
   "metadata": {},
   "outputs": [],
   "source": [
    "def save_table_to_csv(tables, csv_filename, output_dir):\n",
    "    try:\n",
    "        csv_path = os.path.join(output_dir, csv_filename)\n",
    "        with open(csv_path, mode='w', newline='') as file:\n",
    "            writer = csv.writer(file)\n",
    "            for table in tables:\n",
    "                for row in table:\n",
    "                    writer.writerow(row)\n",
    "        logging.info(f\"Saved CSV: {csv_path}\")\n",
    "    except Exception as e:\n",
    "        logging.error(f\"Error occured saving table to csv {csv_filename}\",{e})"
   ]
  },
  {
   "cell_type": "code",
   "execution_count": 7,
   "metadata": {},
   "outputs": [],
   "source": [
    "def process_pdfs_in_directory(directory_path, output_dir):\n",
    "    # Ensure the output directory exists\n",
    "    os.makedirs(output_dir, exist_ok=True)\n",
    "    # List all PDF files in the directory\n",
    "    for filename in os.listdir(directory_path):\n",
    "        if filename.endswith(\".pdf\"):\n",
    "            pdf_file_path = os.path.join(directory_path, filename)\n",
    "            logging.info(f\"Processing: {pdf_file_path}\")\n",
    "            tables, csv_filename = extract_tables_from_pdf(pdf_file_path)\n",
    "            if tables:\n",
    "                save_table_to_csv(tables, f\"{csv_filename}\", output_dir)\n",
    "            else:\n",
    "                logging.info(f\"No tables found in: {pdf_file_path}\")"
   ]
  },
  {
   "cell_type": "code",
   "execution_count": 8,
   "metadata": {},
   "outputs": [],
   "source": [
    "from PyPDF2 import PdfReader, PdfWriter\n",
    "\n",
    "# Decrypt the PDF\n",
    "def decrypt_pdf(input_path, output_path, password):\n",
    "    reader = PdfReader(input_path)\n",
    "    if reader.is_encrypted:\n",
    "        reader.decrypt(password)\n",
    "    \n",
    "    writer = PdfWriter()\n",
    "    for page in reader.pages:\n",
    "        writer.add_page(page)\n",
    "    \n",
    "    with open(output_path, \"wb\") as output_file:\n",
    "        writer.write(output_file)"
   ]
  },
  {
   "cell_type": "code",
   "execution_count": 9,
   "metadata": {},
   "outputs": [],
   "source": [
    "decrypt_pdf(input_path, output_path, password)"
   ]
  },
  {
   "cell_type": "code",
   "execution_count": 11,
   "metadata": {},
   "outputs": [],
   "source": [
    "# pdf_directory_path = './data/decrypted/2023_sbi/'\n",
    "# output_directory_path = './data/output/2023_sbi/'\n",
    "pdf_directory_path = './archive/decrypted/'\n",
    "output_directory_path = './archive/output/'\n",
    "process_pdfs_in_directory(pdf_directory_path, output_directory_path)"
   ]
  },
  {
   "cell_type": "code",
   "execution_count": 13,
   "metadata": {},
   "outputs": [
    {
     "data": {
      "text/html": [
       "<div>\n",
       "<style scoped>\n",
       "    .dataframe tbody tr th:only-of-type {\n",
       "        vertical-align: middle;\n",
       "    }\n",
       "\n",
       "    .dataframe tbody tr th {\n",
       "        vertical-align: top;\n",
       "    }\n",
       "\n",
       "    .dataframe thead th {\n",
       "        text-align: right;\n",
       "    }\n",
       "</style>\n",
       "<table border=\"1\" class=\"dataframe\">\n",
       "  <thead>\n",
       "    <tr style=\"text-align: right;\">\n",
       "      <th></th>\n",
       "      <th>Txn Date</th>\n",
       "      <th>Value\\nDate</th>\n",
       "      <th>Description</th>\n",
       "      <th>Ref No./Cheque\\nNo.</th>\n",
       "      <th>Debit</th>\n",
       "      <th>Credit</th>\n",
       "      <th>Balance</th>\n",
       "    </tr>\n",
       "  </thead>\n",
       "  <tbody>\n",
       "    <tr>\n",
       "      <th>0</th>\n",
       "      <td>3 Aug 2023</td>\n",
       "      <td>3 Aug 2023</td>\n",
       "      <td>BULK POSTING-ACHCr\\nNACH00000000001792 REG23\\n-</td>\n",
       "      <td>NaN</td>\n",
       "      <td>NaN</td>\n",
       "      <td>125.40</td>\n",
       "      <td>6,72,754.56</td>\n",
       "    </tr>\n",
       "    <tr>\n",
       "      <th>1</th>\n",
       "      <td>3 Aug 2023</td>\n",
       "      <td>3 Aug 2023</td>\n",
       "      <td>BULK POSTING-ACHCr\\nHDFC01075000010329 TCIL-</td>\n",
       "      <td>NaN</td>\n",
       "      <td>NaN</td>\n",
       "      <td>9.00</td>\n",
       "      <td>6,72,763.56</td>\n",
       "    </tr>\n",
       "    <tr>\n",
       "      <th>2</th>\n",
       "      <td>4 Aug 2023</td>\n",
       "      <td>4 Aug 2023</td>\n",
       "      <td>BULK POSTING-ACHCr\\nUTIB00788000017240 KFIL\\nF...</td>\n",
       "      <td>NaN</td>\n",
       "      <td>NaN</td>\n",
       "      <td>16.00</td>\n",
       "      <td>6,72,779.56</td>\n",
       "    </tr>\n",
       "    <tr>\n",
       "      <th>3</th>\n",
       "      <td>5 Aug 2023</td>\n",
       "      <td>5 Aug 2023</td>\n",
       "      <td>BY TRANSFER-INB\\nIMPS321727038666/85214796\\n32...</td>\n",
       "      <td>MAD00035329732\\n2\\nMAD00035329732\\n2</td>\n",
       "      <td>NaN</td>\n",
       "      <td>1,15,760.21</td>\n",
       "      <td>7,88,539.77</td>\n",
       "    </tr>\n",
       "    <tr>\n",
       "      <th>4</th>\n",
       "      <td>6 Aug 2023</td>\n",
       "      <td>6 Aug 2023</td>\n",
       "      <td>BULK POSTING-ACHCr\\nNACH00000000016326\\nNARAYA...</td>\n",
       "      <td>NaN</td>\n",
       "      <td>NaN</td>\n",
       "      <td>7.00</td>\n",
       "      <td>7,88,546.77</td>\n",
       "    </tr>\n",
       "  </tbody>\n",
       "</table>\n",
       "</div>"
      ],
      "text/plain": [
       "     Txn Date Value\\nDate                                        Description  \\\n",
       "0  3 Aug 2023  3 Aug 2023    BULK POSTING-ACHCr\\nNACH00000000001792 REG23\\n-   \n",
       "1  3 Aug 2023  3 Aug 2023       BULK POSTING-ACHCr\\nHDFC01075000010329 TCIL-   \n",
       "2  4 Aug 2023  4 Aug 2023  BULK POSTING-ACHCr\\nUTIB00788000017240 KFIL\\nF...   \n",
       "3  5 Aug 2023  5 Aug 2023  BY TRANSFER-INB\\nIMPS321727038666/85214796\\n32...   \n",
       "4  6 Aug 2023  6 Aug 2023  BULK POSTING-ACHCr\\nNACH00000000016326\\nNARAYA...   \n",
       "\n",
       "                    Ref No./Cheque\\nNo. Debit       Credit      Balance  \n",
       "0                                   NaN   NaN       125.40  6,72,754.56  \n",
       "1                                   NaN   NaN         9.00  6,72,763.56  \n",
       "2                                   NaN   NaN        16.00  6,72,779.56  \n",
       "3  MAD00035329732\\n2\\nMAD00035329732\\n2   NaN  1,15,760.21  7,88,539.77  \n",
       "4                                   NaN   NaN         7.00  7,88,546.77  "
      ]
     },
     "execution_count": 13,
     "metadata": {},
     "output_type": "execute_result"
    }
   ],
   "source": [
    "# Read the transactions_2022_2023.csv file \n",
    "import pandas as pd\n",
    "df = pd.read_csv(\"./data/output/2023_sbi/08.pdf.csv\")\n",
    "df.head()"
   ]
  },
  {
   "cell_type": "code",
   "execution_count": 15,
   "metadata": {},
   "outputs": [
    {
     "data": {
      "text/plain": [
       "38"
      ]
     },
     "execution_count": 15,
     "metadata": {},
     "output_type": "execute_result"
    }
   ],
   "source": [
    "len(df)\n",
    "unique_transactions = df[\"Description\"].unique()\n",
    "len(unique_transactions)"
   ]
  }
 ],
 "metadata": {
  "kernelspec": {
   "display_name": "Python 3 (ipykernel)",
   "language": "python",
   "name": "python3"
  },
  "language_info": {
   "codemirror_mode": {
    "name": "ipython",
    "version": 3
   },
   "file_extension": ".py",
   "mimetype": "text/x-python",
   "name": "python",
   "nbconvert_exporter": "python",
   "pygments_lexer": "ipython3",
   "version": "3.11.6"
  }
 },
 "nbformat": 4,
 "nbformat_minor": 4
}
