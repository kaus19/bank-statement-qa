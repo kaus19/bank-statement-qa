{
 "cells": [
  {
   "cell_type": "code",
   "execution_count": null,
   "metadata": {},
   "outputs": [
    {
     "name": "stdout",
     "output_type": "stream",
     "text": [
      "Requirement already satisfied: pdfplumber in ./venv/lib/python3.12/site-packages (0.11.5)\n",
      "Requirement already satisfied: pdfminer.six==20231228 in ./venv/lib/python3.12/site-packages (from pdfplumber) (20231228)\n",
      "Requirement already satisfied: Pillow>=9.1 in ./venv/lib/python3.12/site-packages (from pdfplumber) (11.1.0)\n",
      "Requirement already satisfied: pypdfium2>=4.18.0 in ./venv/lib/python3.12/site-packages (from pdfplumber) (4.30.1)\n",
      "Requirement already satisfied: charset-normalizer>=2.0.0 in ./venv/lib/python3.12/site-packages (from pdfminer.six==20231228->pdfplumber) (3.4.1)\n",
      "Requirement already satisfied: cryptography>=36.0.0 in ./venv/lib/python3.12/site-packages (from pdfminer.six==20231228->pdfplumber) (44.0.0)\n",
      "Requirement already satisfied: cffi>=1.12 in ./venv/lib/python3.12/site-packages (from cryptography>=36.0.0->pdfminer.six==20231228->pdfplumber) (1.17.1)\n",
      "Requirement already satisfied: pycparser in ./venv/lib/python3.12/site-packages (from cffi>=1.12->cryptography>=36.0.0->pdfminer.six==20231228->pdfplumber) (2.22)\n",
      "\n",
      "\u001b[1m[\u001b[0m\u001b[34;49mnotice\u001b[0m\u001b[1;39;49m]\u001b[0m\u001b[39;49m A new release of pip is available: \u001b[0m\u001b[31;49m23.2.1\u001b[0m\u001b[39;49m -> \u001b[0m\u001b[32;49m24.3.1\u001b[0m\n",
      "\u001b[1m[\u001b[0m\u001b[34;49mnotice\u001b[0m\u001b[1;39;49m]\u001b[0m\u001b[39;49m To update, run: \u001b[0m\u001b[32;49mpip install --upgrade pip\u001b[0m\n"
     ]
    }
   ],
   "source": [
    "!pip install pdfplumber"
   ]
  },
  {
   "cell_type": "code",
   "execution_count": 2,
   "metadata": {},
   "outputs": [],
   "source": [
    "import pdfplumber\n",
    "import os\n",
    "import csv\n",
    "import logging"
   ]
  },
  {
   "cell_type": "code",
   "execution_count": 3,
   "metadata": {},
   "outputs": [],
   "source": [
    "from dotenv import load_dotenv\n",
    "\n",
    "load_dotenv()\n",
    "\n",
    "input_path = os.getenv(\"INPUT_PATH\" | \"./data/sample.pdf\")\n",
    "output_path = os.getenv(\"OUTPUT_PATH\" | \"./data/decypted\")\n",
    "password = os.getenv(\"PASSWORD\" | \"password\")"
   ]
  },
  {
   "cell_type": "code",
   "execution_count": 5,
   "metadata": {},
   "outputs": [],
   "source": [
    "def extract_tables_from_pdf(pdf_path):\n",
    "    try:\n",
    "        with pdfplumber.open(pdf_path) as pdf:\n",
    "\n",
    "            # Define the output CSV file path\n",
    "            month_number = pdf_path.split('/')[-1].split('_')[1]\n",
    "            csv_filename = f\"{month_number}.csv\"\n",
    "            tables = []\n",
    "            for page in pdf.pages:\n",
    "                table = page.extract_table()\n",
    "                if table:\n",
    "                    tables.append(table)\n",
    "            return tables, csv_filename\n",
    "    except Exception as e:\n",
    "        logging.error(f\"Error occured extracting from pdf {pdf_path}\",{e})"
   ]
  },
  {
   "cell_type": "code",
   "execution_count": 6,
   "metadata": {},
   "outputs": [],
   "source": [
    "def save_table_to_csv(tables, csv_filename, output_dir):\n",
    "    try:\n",
    "        csv_path = os.path.join(output_dir, csv_filename)\n",
    "        with open(csv_path, mode='w', newline='') as file:\n",
    "            writer = csv.writer(file)\n",
    "            for table in tables:\n",
    "                for row in table:\n",
    "                    writer.writerow(row)\n",
    "        logging.info(f\"Saved CSV: {csv_path}\")\n",
    "    except Exception as e:\n",
    "        logging.error(f\"Error occured saving table to csv {csv_filename}\",{e})"
   ]
  },
  {
   "cell_type": "code",
   "execution_count": null,
   "metadata": {},
   "outputs": [],
   "source": [
    "from PyPDF2 import PdfReader, PdfWriter\n",
    "\n",
    "# Decrypt the PDF\n",
    "def decrypt_pdf(input_path, output_path, password):\n",
    "    reader = PdfReader(input_path)\n",
    "    if reader.is_encrypted:\n",
    "        reader.decrypt(password)\n",
    "    \n",
    "    writer = PdfWriter()\n",
    "    for page in reader.pages:\n",
    "        writer.add_page(page)\n",
    "    \n",
    "    with open(output_path, \"wb\") as output_file:\n",
    "        writer.write(output_file)"
   ]
  },
  {
   "cell_type": "code",
   "execution_count": 7,
   "metadata": {},
   "outputs": [],
   "source": [
    "def process_pdfs_in_directory(directory_path, output_dir):\n",
    "    # Ensure the output directory exists\n",
    "    os.makedirs(output_dir, exist_ok=True)\n",
    "    # List all PDF files in the directory\n",
    "    for filename in os.listdir(directory_path):\n",
    "        if filename.endswith(\".pdf\"):\n",
    "            pdf_file_path = os.path.join(directory_path, filename)\n",
    "            # output_dir = os.path.join(output_dir,\n",
    "            # Decrypt the PDF if necessary\n",
    "            decrypt_pdf(pdf_file_path, output_path, password)\n",
    "            \n",
    "            # Extract tables from the PDF and save them to CSV\n",
    "            logging.info(f\"Processing: {pdf_file_path}\")\n",
    "            tables, csv_filename = extract_tables_from_pdf(pdf_file_path)\n",
    "            if tables:\n",
    "                save_table_to_csv(tables, f\"{csv_filename}\", output_dir)\n",
    "            else:\n",
    "                logging.info(f\"No tables found in: {pdf_file_path}\")"
   ]
  },
  {
   "cell_type": "code",
   "execution_count": 11,
   "metadata": {},
   "outputs": [],
   "source": [
    "pdf_directory_path = './data/decrypted/'\n",
    "output_directory_path = './data/output/'\n",
    "process_pdfs_in_directory(pdf_directory_path, output_directory_path)"
   ]
  }
 ],
 "metadata": {
  "kernelspec": {
   "display_name": "Python 3 (ipykernel)",
   "language": "python",
   "name": "python3"
  },
  "language_info": {
   "codemirror_mode": {
    "name": "ipython",
    "version": 3
   },
   "file_extension": ".py",
   "mimetype": "text/x-python",
   "name": "python",
   "nbconvert_exporter": "python",
   "pygments_lexer": "ipython3",
   "version": "3.11.6"
  }
 },
 "nbformat": 4,
 "nbformat_minor": 4
}
