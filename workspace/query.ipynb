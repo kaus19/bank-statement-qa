{
 "cells": [
  {
   "cell_type": "code",
   "execution_count": 5,
   "metadata": {},
   "outputs": [],
   "source": [
    "import logging\n",
    "import sys\n",
    "\n",
    "logging.basicConfig(stream=sys.stdout, level=logging.INFO)\n",
    "logging.getLogger().addHandler(logging.StreamHandler(stream=sys.stdout))"
   ]
  },
  {
   "cell_type": "code",
   "execution_count": 6,
   "metadata": {},
   "outputs": [
    {
     "name": "stdout",
     "output_type": "stream",
     "text": [
      "Requirement already satisfied: llama_index.embeddings.huggingface in /Users/kaustubhmaloo/Documents/workspace/bank-statement-qa/venv/lib/python3.12/site-packages (0.5.0)\n",
      "Requirement already satisfied: huggingface-hub[inference]>=0.19.0 in /Users/kaustubhmaloo/Documents/workspace/bank-statement-qa/venv/lib/python3.12/site-packages (from llama_index.embeddings.huggingface) (0.27.1)\n",
      "Requirement already satisfied: llama-index-core<0.13.0,>=0.12.0 in /Users/kaustubhmaloo/Documents/workspace/bank-statement-qa/venv/lib/python3.12/site-packages (from llama_index.embeddings.huggingface) (0.12.10.post1)\n",
      "Requirement already satisfied: sentence-transformers>=2.6.1 in /Users/kaustubhmaloo/Documents/workspace/bank-statement-qa/venv/lib/python3.12/site-packages (from llama_index.embeddings.huggingface) (3.3.1)\n",
      "Requirement already satisfied: filelock in /Users/kaustubhmaloo/Documents/workspace/bank-statement-qa/venv/lib/python3.12/site-packages (from huggingface-hub[inference]>=0.19.0->llama_index.embeddings.huggingface) (3.16.1)\n",
      "Requirement already satisfied: fsspec>=2023.5.0 in /Users/kaustubhmaloo/Documents/workspace/bank-statement-qa/venv/lib/python3.12/site-packages (from huggingface-hub[inference]>=0.19.0->llama_index.embeddings.huggingface) (2024.9.0)\n",
      "Requirement already satisfied: packaging>=20.9 in /Users/kaustubhmaloo/Documents/workspace/bank-statement-qa/venv/lib/python3.12/site-packages (from huggingface-hub[inference]>=0.19.0->llama_index.embeddings.huggingface) (24.2)\n",
      "Requirement already satisfied: pyyaml>=5.1 in /Users/kaustubhmaloo/Documents/workspace/bank-statement-qa/venv/lib/python3.12/site-packages (from huggingface-hub[inference]>=0.19.0->llama_index.embeddings.huggingface) (6.0.2)\n",
      "Requirement already satisfied: requests in /Users/kaustubhmaloo/Documents/workspace/bank-statement-qa/venv/lib/python3.12/site-packages (from huggingface-hub[inference]>=0.19.0->llama_index.embeddings.huggingface) (2.32.3)\n",
      "Requirement already satisfied: tqdm>=4.42.1 in /Users/kaustubhmaloo/Documents/workspace/bank-statement-qa/venv/lib/python3.12/site-packages (from huggingface-hub[inference]>=0.19.0->llama_index.embeddings.huggingface) (4.67.1)\n",
      "Requirement already satisfied: typing-extensions>=3.7.4.3 in /Users/kaustubhmaloo/Documents/workspace/bank-statement-qa/venv/lib/python3.12/site-packages (from huggingface-hub[inference]>=0.19.0->llama_index.embeddings.huggingface) (4.12.2)\n",
      "Requirement already satisfied: aiohttp in /Users/kaustubhmaloo/Documents/workspace/bank-statement-qa/venv/lib/python3.12/site-packages (from huggingface-hub[inference]>=0.19.0->llama_index.embeddings.huggingface) (3.11.11)\n",
      "Requirement already satisfied: SQLAlchemy[asyncio]>=1.4.49 in /Users/kaustubhmaloo/Documents/workspace/bank-statement-qa/venv/lib/python3.12/site-packages (from llama-index-core<0.13.0,>=0.12.0->llama_index.embeddings.huggingface) (2.0.37)\n",
      "Requirement already satisfied: dataclasses-json in /Users/kaustubhmaloo/Documents/workspace/bank-statement-qa/venv/lib/python3.12/site-packages (from llama-index-core<0.13.0,>=0.12.0->llama_index.embeddings.huggingface) (0.6.7)\n",
      "Requirement already satisfied: deprecated>=1.2.9.3 in /Users/kaustubhmaloo/Documents/workspace/bank-statement-qa/venv/lib/python3.12/site-packages (from llama-index-core<0.13.0,>=0.12.0->llama_index.embeddings.huggingface) (1.2.15)\n",
      "Requirement already satisfied: dirtyjson<2.0.0,>=1.0.8 in /Users/kaustubhmaloo/Documents/workspace/bank-statement-qa/venv/lib/python3.12/site-packages (from llama-index-core<0.13.0,>=0.12.0->llama_index.embeddings.huggingface) (1.0.8)\n",
      "Requirement already satisfied: filetype<2.0.0,>=1.2.0 in /Users/kaustubhmaloo/Documents/workspace/bank-statement-qa/venv/lib/python3.12/site-packages (from llama-index-core<0.13.0,>=0.12.0->llama_index.embeddings.huggingface) (1.2.0)\n",
      "Requirement already satisfied: httpx in /Users/kaustubhmaloo/Documents/workspace/bank-statement-qa/venv/lib/python3.12/site-packages (from llama-index-core<0.13.0,>=0.12.0->llama_index.embeddings.huggingface) (0.27.2)\n",
      "Requirement already satisfied: nest-asyncio<2.0.0,>=1.5.8 in /Users/kaustubhmaloo/Documents/workspace/bank-statement-qa/venv/lib/python3.12/site-packages (from llama-index-core<0.13.0,>=0.12.0->llama_index.embeddings.huggingface) (1.6.0)\n",
      "Requirement already satisfied: networkx>=3.0 in /Users/kaustubhmaloo/Documents/workspace/bank-statement-qa/venv/lib/python3.12/site-packages (from llama-index-core<0.13.0,>=0.12.0->llama_index.embeddings.huggingface) (3.4.2)\n",
      "Requirement already satisfied: nltk>3.8.1 in /Users/kaustubhmaloo/Documents/workspace/bank-statement-qa/venv/lib/python3.12/site-packages (from llama-index-core<0.13.0,>=0.12.0->llama_index.embeddings.huggingface) (3.9.1)\n",
      "Requirement already satisfied: numpy in /Users/kaustubhmaloo/Documents/workspace/bank-statement-qa/venv/lib/python3.12/site-packages (from llama-index-core<0.13.0,>=0.12.0->llama_index.embeddings.huggingface) (2.2.1)\n",
      "Requirement already satisfied: pillow>=9.0.0 in /Users/kaustubhmaloo/Documents/workspace/bank-statement-qa/venv/lib/python3.12/site-packages (from llama-index-core<0.13.0,>=0.12.0->llama_index.embeddings.huggingface) (11.1.0)\n",
      "Requirement already satisfied: pydantic>=2.8.0 in /Users/kaustubhmaloo/Documents/workspace/bank-statement-qa/venv/lib/python3.12/site-packages (from llama-index-core<0.13.0,>=0.12.0->llama_index.embeddings.huggingface) (2.10.5)\n",
      "Requirement already satisfied: tenacity!=8.4.0,<10.0.0,>=8.2.0 in /Users/kaustubhmaloo/Documents/workspace/bank-statement-qa/venv/lib/python3.12/site-packages (from llama-index-core<0.13.0,>=0.12.0->llama_index.embeddings.huggingface) (9.0.0)\n",
      "Requirement already satisfied: tiktoken>=0.3.3 in /Users/kaustubhmaloo/Documents/workspace/bank-statement-qa/venv/lib/python3.12/site-packages (from llama-index-core<0.13.0,>=0.12.0->llama_index.embeddings.huggingface) (0.8.0)\n",
      "Requirement already satisfied: typing-inspect>=0.8.0 in /Users/kaustubhmaloo/Documents/workspace/bank-statement-qa/venv/lib/python3.12/site-packages (from llama-index-core<0.13.0,>=0.12.0->llama_index.embeddings.huggingface) (0.9.0)\n",
      "Requirement already satisfied: wrapt in /Users/kaustubhmaloo/Documents/workspace/bank-statement-qa/venv/lib/python3.12/site-packages (from llama-index-core<0.13.0,>=0.12.0->llama_index.embeddings.huggingface) (1.17.0)\n",
      "Requirement already satisfied: transformers<5.0.0,>=4.41.0 in /Users/kaustubhmaloo/Documents/workspace/bank-statement-qa/venv/lib/python3.12/site-packages (from sentence-transformers>=2.6.1->llama_index.embeddings.huggingface) (4.48.0)\n",
      "Requirement already satisfied: torch>=1.11.0 in /Users/kaustubhmaloo/Documents/workspace/bank-statement-qa/venv/lib/python3.12/site-packages (from sentence-transformers>=2.6.1->llama_index.embeddings.huggingface) (2.5.1)\n",
      "Requirement already satisfied: scikit-learn in /Users/kaustubhmaloo/Documents/workspace/bank-statement-qa/venv/lib/python3.12/site-packages (from sentence-transformers>=2.6.1->llama_index.embeddings.huggingface) (1.6.1)\n",
      "Requirement already satisfied: scipy in /Users/kaustubhmaloo/Documents/workspace/bank-statement-qa/venv/lib/python3.12/site-packages (from sentence-transformers>=2.6.1->llama_index.embeddings.huggingface) (1.15.1)\n",
      "Requirement already satisfied: aiohappyeyeballs>=2.3.0 in /Users/kaustubhmaloo/Documents/workspace/bank-statement-qa/venv/lib/python3.12/site-packages (from aiohttp->huggingface-hub[inference]>=0.19.0->llama_index.embeddings.huggingface) (2.4.4)\n",
      "Requirement already satisfied: aiosignal>=1.1.2 in /Users/kaustubhmaloo/Documents/workspace/bank-statement-qa/venv/lib/python3.12/site-packages (from aiohttp->huggingface-hub[inference]>=0.19.0->llama_index.embeddings.huggingface) (1.3.2)\n",
      "Requirement already satisfied: attrs>=17.3.0 in /Users/kaustubhmaloo/Documents/workspace/bank-statement-qa/venv/lib/python3.12/site-packages (from aiohttp->huggingface-hub[inference]>=0.19.0->llama_index.embeddings.huggingface) (24.3.0)\n",
      "Requirement already satisfied: frozenlist>=1.1.1 in /Users/kaustubhmaloo/Documents/workspace/bank-statement-qa/venv/lib/python3.12/site-packages (from aiohttp->huggingface-hub[inference]>=0.19.0->llama_index.embeddings.huggingface) (1.5.0)\n",
      "Requirement already satisfied: multidict<7.0,>=4.5 in /Users/kaustubhmaloo/Documents/workspace/bank-statement-qa/venv/lib/python3.12/site-packages (from aiohttp->huggingface-hub[inference]>=0.19.0->llama_index.embeddings.huggingface) (6.1.0)\n",
      "Requirement already satisfied: propcache>=0.2.0 in /Users/kaustubhmaloo/Documents/workspace/bank-statement-qa/venv/lib/python3.12/site-packages (from aiohttp->huggingface-hub[inference]>=0.19.0->llama_index.embeddings.huggingface) (0.2.1)\n",
      "Requirement already satisfied: yarl<2.0,>=1.17.0 in /Users/kaustubhmaloo/Documents/workspace/bank-statement-qa/venv/lib/python3.12/site-packages (from aiohttp->huggingface-hub[inference]>=0.19.0->llama_index.embeddings.huggingface) (1.18.3)\n",
      "Requirement already satisfied: click in /Users/kaustubhmaloo/Documents/workspace/bank-statement-qa/venv/lib/python3.12/site-packages (from nltk>3.8.1->llama-index-core<0.13.0,>=0.12.0->llama_index.embeddings.huggingface) (8.1.8)\n",
      "Requirement already satisfied: joblib in /Users/kaustubhmaloo/Documents/workspace/bank-statement-qa/venv/lib/python3.12/site-packages (from nltk>3.8.1->llama-index-core<0.13.0,>=0.12.0->llama_index.embeddings.huggingface) (1.4.2)\n",
      "Requirement already satisfied: regex>=2021.8.3 in /Users/kaustubhmaloo/Documents/workspace/bank-statement-qa/venv/lib/python3.12/site-packages (from nltk>3.8.1->llama-index-core<0.13.0,>=0.12.0->llama_index.embeddings.huggingface) (2024.11.6)\n",
      "Requirement already satisfied: annotated-types>=0.6.0 in /Users/kaustubhmaloo/Documents/workspace/bank-statement-qa/venv/lib/python3.12/site-packages (from pydantic>=2.8.0->llama-index-core<0.13.0,>=0.12.0->llama_index.embeddings.huggingface) (0.7.0)\n",
      "Requirement already satisfied: pydantic-core==2.27.2 in /Users/kaustubhmaloo/Documents/workspace/bank-statement-qa/venv/lib/python3.12/site-packages (from pydantic>=2.8.0->llama-index-core<0.13.0,>=0.12.0->llama_index.embeddings.huggingface) (2.27.2)\n",
      "Requirement already satisfied: charset-normalizer<4,>=2 in /Users/kaustubhmaloo/Documents/workspace/bank-statement-qa/venv/lib/python3.12/site-packages (from requests->huggingface-hub[inference]>=0.19.0->llama_index.embeddings.huggingface) (3.4.1)\n",
      "Requirement already satisfied: idna<4,>=2.5 in /Users/kaustubhmaloo/Documents/workspace/bank-statement-qa/venv/lib/python3.12/site-packages (from requests->huggingface-hub[inference]>=0.19.0->llama_index.embeddings.huggingface) (3.10)\n",
      "Requirement already satisfied: urllib3<3,>=1.21.1 in /Users/kaustubhmaloo/Documents/workspace/bank-statement-qa/venv/lib/python3.12/site-packages (from requests->huggingface-hub[inference]>=0.19.0->llama_index.embeddings.huggingface) (2.3.0)\n",
      "Requirement already satisfied: certifi>=2017.4.17 in /Users/kaustubhmaloo/Documents/workspace/bank-statement-qa/venv/lib/python3.12/site-packages (from requests->huggingface-hub[inference]>=0.19.0->llama_index.embeddings.huggingface) (2024.12.14)\n",
      "Requirement already satisfied: greenlet!=0.4.17 in /Users/kaustubhmaloo/Documents/workspace/bank-statement-qa/venv/lib/python3.12/site-packages (from SQLAlchemy[asyncio]>=1.4.49->llama-index-core<0.13.0,>=0.12.0->llama_index.embeddings.huggingface) (3.1.1)\n",
      "Requirement already satisfied: jinja2 in /Users/kaustubhmaloo/Documents/workspace/bank-statement-qa/venv/lib/python3.12/site-packages (from torch>=1.11.0->sentence-transformers>=2.6.1->llama_index.embeddings.huggingface) (3.1.5)\n",
      "Requirement already satisfied: setuptools in /Users/kaustubhmaloo/Documents/workspace/bank-statement-qa/venv/lib/python3.12/site-packages (from torch>=1.11.0->sentence-transformers>=2.6.1->llama_index.embeddings.huggingface) (75.8.0)\n",
      "Requirement already satisfied: sympy==1.13.1 in /Users/kaustubhmaloo/Documents/workspace/bank-statement-qa/venv/lib/python3.12/site-packages (from torch>=1.11.0->sentence-transformers>=2.6.1->llama_index.embeddings.huggingface) (1.13.1)\n",
      "Requirement already satisfied: mpmath<1.4,>=1.1.0 in /Users/kaustubhmaloo/Documents/workspace/bank-statement-qa/venv/lib/python3.12/site-packages (from sympy==1.13.1->torch>=1.11.0->sentence-transformers>=2.6.1->llama_index.embeddings.huggingface) (1.3.0)\n",
      "Requirement already satisfied: tokenizers<0.22,>=0.21 in /Users/kaustubhmaloo/Documents/workspace/bank-statement-qa/venv/lib/python3.12/site-packages (from transformers<5.0.0,>=4.41.0->sentence-transformers>=2.6.1->llama_index.embeddings.huggingface) (0.21.0)\n",
      "Requirement already satisfied: safetensors>=0.4.1 in /Users/kaustubhmaloo/Documents/workspace/bank-statement-qa/venv/lib/python3.12/site-packages (from transformers<5.0.0,>=4.41.0->sentence-transformers>=2.6.1->llama_index.embeddings.huggingface) (0.5.2)\n",
      "Requirement already satisfied: mypy-extensions>=0.3.0 in /Users/kaustubhmaloo/Documents/workspace/bank-statement-qa/venv/lib/python3.12/site-packages (from typing-inspect>=0.8.0->llama-index-core<0.13.0,>=0.12.0->llama_index.embeddings.huggingface) (1.0.0)\n",
      "Requirement already satisfied: marshmallow<4.0.0,>=3.18.0 in /Users/kaustubhmaloo/Documents/workspace/bank-statement-qa/venv/lib/python3.12/site-packages (from dataclasses-json->llama-index-core<0.13.0,>=0.12.0->llama_index.embeddings.huggingface) (3.25.0)\n",
      "Requirement already satisfied: anyio in /Users/kaustubhmaloo/Documents/workspace/bank-statement-qa/venv/lib/python3.12/site-packages (from httpx->llama-index-core<0.13.0,>=0.12.0->llama_index.embeddings.huggingface) (4.8.0)\n",
      "Requirement already satisfied: httpcore==1.* in /Users/kaustubhmaloo/Documents/workspace/bank-statement-qa/venv/lib/python3.12/site-packages (from httpx->llama-index-core<0.13.0,>=0.12.0->llama_index.embeddings.huggingface) (1.0.7)\n",
      "Requirement already satisfied: sniffio in /Users/kaustubhmaloo/Documents/workspace/bank-statement-qa/venv/lib/python3.12/site-packages (from httpx->llama-index-core<0.13.0,>=0.12.0->llama_index.embeddings.huggingface) (1.3.1)\n",
      "Requirement already satisfied: h11<0.15,>=0.13 in /Users/kaustubhmaloo/Documents/workspace/bank-statement-qa/venv/lib/python3.12/site-packages (from httpcore==1.*->httpx->llama-index-core<0.13.0,>=0.12.0->llama_index.embeddings.huggingface) (0.14.0)\n",
      "Requirement already satisfied: threadpoolctl>=3.1.0 in /Users/kaustubhmaloo/Documents/workspace/bank-statement-qa/venv/lib/python3.12/site-packages (from scikit-learn->sentence-transformers>=2.6.1->llama_index.embeddings.huggingface) (3.5.0)\n",
      "Requirement already satisfied: MarkupSafe>=2.0 in /Users/kaustubhmaloo/Documents/workspace/bank-statement-qa/venv/lib/python3.12/site-packages (from jinja2->torch>=1.11.0->sentence-transformers>=2.6.1->llama_index.embeddings.huggingface) (3.0.2)\n",
      "\n",
      "\u001b[1m[\u001b[0m\u001b[34;49mnotice\u001b[0m\u001b[1;39;49m]\u001b[0m\u001b[39;49m A new release of pip is available: \u001b[0m\u001b[31;49m23.2.1\u001b[0m\u001b[39;49m -> \u001b[0m\u001b[32;49m24.3.1\u001b[0m\n",
      "\u001b[1m[\u001b[0m\u001b[34;49mnotice\u001b[0m\u001b[1;39;49m]\u001b[0m\u001b[39;49m To update, run: \u001b[0m\u001b[32;49mpip install --upgrade pip\u001b[0m\n",
      "Requirement already satisfied: llama_index in /Users/kaustubhmaloo/Documents/workspace/bank-statement-qa/venv/lib/python3.12/site-packages (0.12.10)\n",
      "Requirement already satisfied: llama-index-agent-openai<0.5.0,>=0.4.0 in /Users/kaustubhmaloo/Documents/workspace/bank-statement-qa/venv/lib/python3.12/site-packages (from llama_index) (0.4.1)\n",
      "Requirement already satisfied: llama-index-cli<0.5.0,>=0.4.0 in /Users/kaustubhmaloo/Documents/workspace/bank-statement-qa/venv/lib/python3.12/site-packages (from llama_index) (0.4.0)\n",
      "Requirement already satisfied: llama-index-core<0.13.0,>=0.12.10 in /Users/kaustubhmaloo/Documents/workspace/bank-statement-qa/venv/lib/python3.12/site-packages (from llama_index) (0.12.10.post1)\n",
      "Requirement already satisfied: llama-index-embeddings-openai<0.4.0,>=0.3.0 in /Users/kaustubhmaloo/Documents/workspace/bank-statement-qa/venv/lib/python3.12/site-packages (from llama_index) (0.3.1)\n",
      "Requirement already satisfied: llama-index-indices-managed-llama-cloud>=0.4.0 in /Users/kaustubhmaloo/Documents/workspace/bank-statement-qa/venv/lib/python3.12/site-packages (from llama_index) (0.6.3)\n",
      "Requirement already satisfied: llama-index-llms-openai<0.4.0,>=0.3.0 in /Users/kaustubhmaloo/Documents/workspace/bank-statement-qa/venv/lib/python3.12/site-packages (from llama_index) (0.3.13)\n",
      "Requirement already satisfied: llama-index-multi-modal-llms-openai<0.5.0,>=0.4.0 in /Users/kaustubhmaloo/Documents/workspace/bank-statement-qa/venv/lib/python3.12/site-packages (from llama_index) (0.4.2)\n",
      "Requirement already satisfied: llama-index-program-openai<0.4.0,>=0.3.0 in /Users/kaustubhmaloo/Documents/workspace/bank-statement-qa/venv/lib/python3.12/site-packages (from llama_index) (0.3.1)\n",
      "Requirement already satisfied: llama-index-question-gen-openai<0.4.0,>=0.3.0 in /Users/kaustubhmaloo/Documents/workspace/bank-statement-qa/venv/lib/python3.12/site-packages (from llama_index) (0.3.0)\n",
      "Requirement already satisfied: llama-index-readers-file<0.5.0,>=0.4.0 in /Users/kaustubhmaloo/Documents/workspace/bank-statement-qa/venv/lib/python3.12/site-packages (from llama_index) (0.4.3)\n",
      "Requirement already satisfied: llama-index-readers-llama-parse>=0.4.0 in /Users/kaustubhmaloo/Documents/workspace/bank-statement-qa/venv/lib/python3.12/site-packages (from llama_index) (0.4.0)\n",
      "Requirement already satisfied: nltk>3.8.1 in /Users/kaustubhmaloo/Documents/workspace/bank-statement-qa/venv/lib/python3.12/site-packages (from llama_index) (3.9.1)\n",
      "Requirement already satisfied: openai>=1.14.0 in /Users/kaustubhmaloo/Documents/workspace/bank-statement-qa/venv/lib/python3.12/site-packages (from llama-index-agent-openai<0.5.0,>=0.4.0->llama_index) (1.59.6)\n",
      "Requirement already satisfied: PyYAML>=6.0.1 in /Users/kaustubhmaloo/Documents/workspace/bank-statement-qa/venv/lib/python3.12/site-packages (from llama-index-core<0.13.0,>=0.12.10->llama_index) (6.0.2)\n",
      "Requirement already satisfied: SQLAlchemy[asyncio]>=1.4.49 in /Users/kaustubhmaloo/Documents/workspace/bank-statement-qa/venv/lib/python3.12/site-packages (from llama-index-core<0.13.0,>=0.12.10->llama_index) (2.0.37)\n",
      "Requirement already satisfied: aiohttp<4.0.0,>=3.8.6 in /Users/kaustubhmaloo/Documents/workspace/bank-statement-qa/venv/lib/python3.12/site-packages (from llama-index-core<0.13.0,>=0.12.10->llama_index) (3.11.11)\n",
      "Requirement already satisfied: dataclasses-json in /Users/kaustubhmaloo/Documents/workspace/bank-statement-qa/venv/lib/python3.12/site-packages (from llama-index-core<0.13.0,>=0.12.10->llama_index) (0.6.7)\n",
      "Requirement already satisfied: deprecated>=1.2.9.3 in /Users/kaustubhmaloo/Documents/workspace/bank-statement-qa/venv/lib/python3.12/site-packages (from llama-index-core<0.13.0,>=0.12.10->llama_index) (1.2.15)\n",
      "Requirement already satisfied: dirtyjson<2.0.0,>=1.0.8 in /Users/kaustubhmaloo/Documents/workspace/bank-statement-qa/venv/lib/python3.12/site-packages (from llama-index-core<0.13.0,>=0.12.10->llama_index) (1.0.8)\n",
      "Requirement already satisfied: filetype<2.0.0,>=1.2.0 in /Users/kaustubhmaloo/Documents/workspace/bank-statement-qa/venv/lib/python3.12/site-packages (from llama-index-core<0.13.0,>=0.12.10->llama_index) (1.2.0)\n",
      "Requirement already satisfied: fsspec>=2023.5.0 in /Users/kaustubhmaloo/Documents/workspace/bank-statement-qa/venv/lib/python3.12/site-packages (from llama-index-core<0.13.0,>=0.12.10->llama_index) (2024.9.0)\n",
      "Requirement already satisfied: httpx in /Users/kaustubhmaloo/Documents/workspace/bank-statement-qa/venv/lib/python3.12/site-packages (from llama-index-core<0.13.0,>=0.12.10->llama_index) (0.27.2)\n",
      "Requirement already satisfied: nest-asyncio<2.0.0,>=1.5.8 in /Users/kaustubhmaloo/Documents/workspace/bank-statement-qa/venv/lib/python3.12/site-packages (from llama-index-core<0.13.0,>=0.12.10->llama_index) (1.6.0)\n",
      "Requirement already satisfied: networkx>=3.0 in /Users/kaustubhmaloo/Documents/workspace/bank-statement-qa/venv/lib/python3.12/site-packages (from llama-index-core<0.13.0,>=0.12.10->llama_index) (3.4.2)\n",
      "Requirement already satisfied: numpy in /Users/kaustubhmaloo/Documents/workspace/bank-statement-qa/venv/lib/python3.12/site-packages (from llama-index-core<0.13.0,>=0.12.10->llama_index) (2.2.1)\n",
      "Requirement already satisfied: pillow>=9.0.0 in /Users/kaustubhmaloo/Documents/workspace/bank-statement-qa/venv/lib/python3.12/site-packages (from llama-index-core<0.13.0,>=0.12.10->llama_index) (11.1.0)\n",
      "Requirement already satisfied: pydantic>=2.8.0 in /Users/kaustubhmaloo/Documents/workspace/bank-statement-qa/venv/lib/python3.12/site-packages (from llama-index-core<0.13.0,>=0.12.10->llama_index) (2.10.5)\n",
      "Requirement already satisfied: requests>=2.31.0 in /Users/kaustubhmaloo/Documents/workspace/bank-statement-qa/venv/lib/python3.12/site-packages (from llama-index-core<0.13.0,>=0.12.10->llama_index) (2.32.3)\n",
      "Requirement already satisfied: tenacity!=8.4.0,<10.0.0,>=8.2.0 in /Users/kaustubhmaloo/Documents/workspace/bank-statement-qa/venv/lib/python3.12/site-packages (from llama-index-core<0.13.0,>=0.12.10->llama_index) (9.0.0)\n",
      "Requirement already satisfied: tiktoken>=0.3.3 in /Users/kaustubhmaloo/Documents/workspace/bank-statement-qa/venv/lib/python3.12/site-packages (from llama-index-core<0.13.0,>=0.12.10->llama_index) (0.8.0)\n",
      "Requirement already satisfied: tqdm<5.0.0,>=4.66.1 in /Users/kaustubhmaloo/Documents/workspace/bank-statement-qa/venv/lib/python3.12/site-packages (from llama-index-core<0.13.0,>=0.12.10->llama_index) (4.67.1)\n",
      "Requirement already satisfied: typing-extensions>=4.5.0 in /Users/kaustubhmaloo/Documents/workspace/bank-statement-qa/venv/lib/python3.12/site-packages (from llama-index-core<0.13.0,>=0.12.10->llama_index) (4.12.2)\n",
      "Requirement already satisfied: typing-inspect>=0.8.0 in /Users/kaustubhmaloo/Documents/workspace/bank-statement-qa/venv/lib/python3.12/site-packages (from llama-index-core<0.13.0,>=0.12.10->llama_index) (0.9.0)\n",
      "Requirement already satisfied: wrapt in /Users/kaustubhmaloo/Documents/workspace/bank-statement-qa/venv/lib/python3.12/site-packages (from llama-index-core<0.13.0,>=0.12.10->llama_index) (1.17.0)\n",
      "Requirement already satisfied: llama-cloud>=0.1.5 in /Users/kaustubhmaloo/Documents/workspace/bank-statement-qa/venv/lib/python3.12/site-packages (from llama-index-indices-managed-llama-cloud>=0.4.0->llama_index) (0.1.8)\n",
      "Requirement already satisfied: beautifulsoup4<5.0.0,>=4.12.3 in /Users/kaustubhmaloo/Documents/workspace/bank-statement-qa/venv/lib/python3.12/site-packages (from llama-index-readers-file<0.5.0,>=0.4.0->llama_index) (4.12.3)\n",
      "Requirement already satisfied: pandas in /Users/kaustubhmaloo/Documents/workspace/bank-statement-qa/venv/lib/python3.12/site-packages (from llama-index-readers-file<0.5.0,>=0.4.0->llama_index) (2.2.3)\n",
      "Requirement already satisfied: pypdf<6.0.0,>=5.1.0 in /Users/kaustubhmaloo/Documents/workspace/bank-statement-qa/venv/lib/python3.12/site-packages (from llama-index-readers-file<0.5.0,>=0.4.0->llama_index) (5.1.0)\n",
      "Requirement already satisfied: striprtf<0.0.27,>=0.0.26 in /Users/kaustubhmaloo/Documents/workspace/bank-statement-qa/venv/lib/python3.12/site-packages (from llama-index-readers-file<0.5.0,>=0.4.0->llama_index) (0.0.26)\n",
      "Requirement already satisfied: llama-parse>=0.5.0 in /Users/kaustubhmaloo/Documents/workspace/bank-statement-qa/venv/lib/python3.12/site-packages (from llama-index-readers-llama-parse>=0.4.0->llama_index) (0.5.19)\n",
      "Requirement already satisfied: click in /Users/kaustubhmaloo/Documents/workspace/bank-statement-qa/venv/lib/python3.12/site-packages (from nltk>3.8.1->llama_index) (8.1.8)\n",
      "Requirement already satisfied: joblib in /Users/kaustubhmaloo/Documents/workspace/bank-statement-qa/venv/lib/python3.12/site-packages (from nltk>3.8.1->llama_index) (1.4.2)\n",
      "Requirement already satisfied: regex>=2021.8.3 in /Users/kaustubhmaloo/Documents/workspace/bank-statement-qa/venv/lib/python3.12/site-packages (from nltk>3.8.1->llama_index) (2024.11.6)\n",
      "Requirement already satisfied: aiohappyeyeballs>=2.3.0 in /Users/kaustubhmaloo/Documents/workspace/bank-statement-qa/venv/lib/python3.12/site-packages (from aiohttp<4.0.0,>=3.8.6->llama-index-core<0.13.0,>=0.12.10->llama_index) (2.4.4)\n",
      "Requirement already satisfied: aiosignal>=1.1.2 in /Users/kaustubhmaloo/Documents/workspace/bank-statement-qa/venv/lib/python3.12/site-packages (from aiohttp<4.0.0,>=3.8.6->llama-index-core<0.13.0,>=0.12.10->llama_index) (1.3.2)\n",
      "Requirement already satisfied: attrs>=17.3.0 in /Users/kaustubhmaloo/Documents/workspace/bank-statement-qa/venv/lib/python3.12/site-packages (from aiohttp<4.0.0,>=3.8.6->llama-index-core<0.13.0,>=0.12.10->llama_index) (24.3.0)\n",
      "Requirement already satisfied: frozenlist>=1.1.1 in /Users/kaustubhmaloo/Documents/workspace/bank-statement-qa/venv/lib/python3.12/site-packages (from aiohttp<4.0.0,>=3.8.6->llama-index-core<0.13.0,>=0.12.10->llama_index) (1.5.0)\n",
      "Requirement already satisfied: multidict<7.0,>=4.5 in /Users/kaustubhmaloo/Documents/workspace/bank-statement-qa/venv/lib/python3.12/site-packages (from aiohttp<4.0.0,>=3.8.6->llama-index-core<0.13.0,>=0.12.10->llama_index) (6.1.0)\n",
      "Requirement already satisfied: propcache>=0.2.0 in /Users/kaustubhmaloo/Documents/workspace/bank-statement-qa/venv/lib/python3.12/site-packages (from aiohttp<4.0.0,>=3.8.6->llama-index-core<0.13.0,>=0.12.10->llama_index) (0.2.1)\n",
      "Requirement already satisfied: yarl<2.0,>=1.17.0 in /Users/kaustubhmaloo/Documents/workspace/bank-statement-qa/venv/lib/python3.12/site-packages (from aiohttp<4.0.0,>=3.8.6->llama-index-core<0.13.0,>=0.12.10->llama_index) (1.18.3)\n",
      "Requirement already satisfied: soupsieve>1.2 in /Users/kaustubhmaloo/Documents/workspace/bank-statement-qa/venv/lib/python3.12/site-packages (from beautifulsoup4<5.0.0,>=4.12.3->llama-index-readers-file<0.5.0,>=0.4.0->llama_index) (2.6)\n",
      "Requirement already satisfied: certifi<2025.0.0,>=2024.7.4 in /Users/kaustubhmaloo/Documents/workspace/bank-statement-qa/venv/lib/python3.12/site-packages (from llama-cloud>=0.1.5->llama-index-indices-managed-llama-cloud>=0.4.0->llama_index) (2024.12.14)\n",
      "Requirement already satisfied: anyio in /Users/kaustubhmaloo/Documents/workspace/bank-statement-qa/venv/lib/python3.12/site-packages (from httpx->llama-index-core<0.13.0,>=0.12.10->llama_index) (4.8.0)\n",
      "Requirement already satisfied: httpcore==1.* in /Users/kaustubhmaloo/Documents/workspace/bank-statement-qa/venv/lib/python3.12/site-packages (from httpx->llama-index-core<0.13.0,>=0.12.10->llama_index) (1.0.7)\n",
      "Requirement already satisfied: idna in /Users/kaustubhmaloo/Documents/workspace/bank-statement-qa/venv/lib/python3.12/site-packages (from httpx->llama-index-core<0.13.0,>=0.12.10->llama_index) (3.10)\n",
      "Requirement already satisfied: sniffio in /Users/kaustubhmaloo/Documents/workspace/bank-statement-qa/venv/lib/python3.12/site-packages (from httpx->llama-index-core<0.13.0,>=0.12.10->llama_index) (1.3.1)\n",
      "Requirement already satisfied: h11<0.15,>=0.13 in /Users/kaustubhmaloo/Documents/workspace/bank-statement-qa/venv/lib/python3.12/site-packages (from httpcore==1.*->httpx->llama-index-core<0.13.0,>=0.12.10->llama_index) (0.14.0)\n",
      "Requirement already satisfied: distro<2,>=1.7.0 in /Users/kaustubhmaloo/Documents/workspace/bank-statement-qa/venv/lib/python3.12/site-packages (from openai>=1.14.0->llama-index-agent-openai<0.5.0,>=0.4.0->llama_index) (1.9.0)\n",
      "Requirement already satisfied: jiter<1,>=0.4.0 in /Users/kaustubhmaloo/Documents/workspace/bank-statement-qa/venv/lib/python3.12/site-packages (from openai>=1.14.0->llama-index-agent-openai<0.5.0,>=0.4.0->llama_index) (0.8.2)\n",
      "Requirement already satisfied: annotated-types>=0.6.0 in /Users/kaustubhmaloo/Documents/workspace/bank-statement-qa/venv/lib/python3.12/site-packages (from pydantic>=2.8.0->llama-index-core<0.13.0,>=0.12.10->llama_index) (0.7.0)\n",
      "Requirement already satisfied: pydantic-core==2.27.2 in /Users/kaustubhmaloo/Documents/workspace/bank-statement-qa/venv/lib/python3.12/site-packages (from pydantic>=2.8.0->llama-index-core<0.13.0,>=0.12.10->llama_index) (2.27.2)\n",
      "Requirement already satisfied: charset-normalizer<4,>=2 in /Users/kaustubhmaloo/Documents/workspace/bank-statement-qa/venv/lib/python3.12/site-packages (from requests>=2.31.0->llama-index-core<0.13.0,>=0.12.10->llama_index) (3.4.1)\n",
      "Requirement already satisfied: urllib3<3,>=1.21.1 in /Users/kaustubhmaloo/Documents/workspace/bank-statement-qa/venv/lib/python3.12/site-packages (from requests>=2.31.0->llama-index-core<0.13.0,>=0.12.10->llama_index) (2.3.0)\n",
      "Requirement already satisfied: greenlet!=0.4.17 in /Users/kaustubhmaloo/Documents/workspace/bank-statement-qa/venv/lib/python3.12/site-packages (from SQLAlchemy[asyncio]>=1.4.49->llama-index-core<0.13.0,>=0.12.10->llama_index) (3.1.1)\n",
      "Requirement already satisfied: mypy-extensions>=0.3.0 in /Users/kaustubhmaloo/Documents/workspace/bank-statement-qa/venv/lib/python3.12/site-packages (from typing-inspect>=0.8.0->llama-index-core<0.13.0,>=0.12.10->llama_index) (1.0.0)\n",
      "Requirement already satisfied: marshmallow<4.0.0,>=3.18.0 in /Users/kaustubhmaloo/Documents/workspace/bank-statement-qa/venv/lib/python3.12/site-packages (from dataclasses-json->llama-index-core<0.13.0,>=0.12.10->llama_index) (3.25.0)\n",
      "Requirement already satisfied: python-dateutil>=2.8.2 in /Users/kaustubhmaloo/Documents/workspace/bank-statement-qa/venv/lib/python3.12/site-packages (from pandas->llama-index-readers-file<0.5.0,>=0.4.0->llama_index) (2.9.0.post0)\n",
      "Requirement already satisfied: pytz>=2020.1 in /Users/kaustubhmaloo/Documents/workspace/bank-statement-qa/venv/lib/python3.12/site-packages (from pandas->llama-index-readers-file<0.5.0,>=0.4.0->llama_index) (2024.2)\n",
      "Requirement already satisfied: tzdata>=2022.7 in /Users/kaustubhmaloo/Documents/workspace/bank-statement-qa/venv/lib/python3.12/site-packages (from pandas->llama-index-readers-file<0.5.0,>=0.4.0->llama_index) (2024.2)\n",
      "Requirement already satisfied: packaging>=17.0 in /Users/kaustubhmaloo/Documents/workspace/bank-statement-qa/venv/lib/python3.12/site-packages (from marshmallow<4.0.0,>=3.18.0->dataclasses-json->llama-index-core<0.13.0,>=0.12.10->llama_index) (24.2)\n",
      "Requirement already satisfied: six>=1.5 in /Users/kaustubhmaloo/Documents/workspace/bank-statement-qa/venv/lib/python3.12/site-packages (from python-dateutil>=2.8.2->pandas->llama-index-readers-file<0.5.0,>=0.4.0->llama_index) (1.17.0)\n",
      "\n",
      "\u001b[1m[\u001b[0m\u001b[34;49mnotice\u001b[0m\u001b[1;39;49m]\u001b[0m\u001b[39;49m A new release of pip is available: \u001b[0m\u001b[31;49m23.2.1\u001b[0m\u001b[39;49m -> \u001b[0m\u001b[32;49m24.3.1\u001b[0m\n",
      "\u001b[1m[\u001b[0m\u001b[34;49mnotice\u001b[0m\u001b[1;39;49m]\u001b[0m\u001b[39;49m To update, run: \u001b[0m\u001b[32;49mpip install --upgrade pip\u001b[0m\n"
     ]
    }
   ],
   "source": [
    "!pip install llama_index.embeddings.huggingface\n",
    "!pip install llama_index"
   ]
  },
  {
   "cell_type": "code",
   "execution_count": 7,
   "metadata": {},
   "outputs": [
    {
     "name": "stdout",
     "output_type": "stream",
     "text": [
      "INFO:sentence_transformers.SentenceTransformer:Load pretrained SentenceTransformer: BAAI/bge-base-en-v1.5\n",
      "Load pretrained SentenceTransformer: BAAI/bge-base-en-v1.5\n",
      "Load pretrained SentenceTransformer: BAAI/bge-base-en-v1.5\n"
     ]
    },
    {
     "name": "stdout",
     "output_type": "stream",
     "text": [
      "INFO:sentence_transformers.SentenceTransformer:2 prompts are loaded, with the keys: ['query', 'text']\n",
      "2 prompts are loaded, with the keys: ['query', 'text']\n",
      "2 prompts are loaded, with the keys: ['query', 'text']\n"
     ]
    }
   ],
   "source": [
    "from llama_index.embeddings.huggingface import HuggingFaceEmbedding\n",
    "from llama_index.core import Settings\n",
    "\n",
    "Settings.embed_model = HuggingFaceEmbedding(\n",
    "    model_name=\"BAAI/bge-base-en-v1.5\"\n",
    ")"
   ]
  },
  {
   "cell_type": "code",
   "execution_count": 9,
   "metadata": {},
   "outputs": [
    {
     "name": "stdout",
     "output_type": "stream",
     "text": [
      "January\n",
      "February\n",
      "March\n",
      "April\n",
      "May\n",
      "June\n",
      "July\n",
      "August\n",
      "September\n",
      "October\n",
      "November\n",
      "December\n"
     ]
    },
    {
     "data": {
      "application/vnd.jupyter.widget-view+json": {
       "model_id": "53cec0102f154760a0edac74a15373fc",
       "version_major": 2,
       "version_minor": 0
      },
      "text/plain": [
       "Batches:   0%|          | 0/1 [00:00<?, ?it/s]"
      ]
     },
     "metadata": {},
     "output_type": "display_data"
    },
    {
     "data": {
      "application/vnd.jupyter.widget-view+json": {
       "model_id": "2ee5843387ae4f849094281a1018ca15",
       "version_major": 2,
       "version_minor": 0
      },
      "text/plain": [
       "Batches:   0%|          | 0/1 [00:00<?, ?it/s]"
      ]
     },
     "metadata": {},
     "output_type": "display_data"
    }
   ],
   "source": [
    "from llama_index.core import SimpleDirectoryReader, VectorStoreIndex\n",
    "\n",
    "month_mapping = {\n",
    "    \"01\": \"January\",\n",
    "    \"02\": \"February\",\n",
    "    \"03\": \"March\",\n",
    "    \"04\": \"April\",\n",
    "    \"05\": \"May\",\n",
    "    \"06\": \"June\",\n",
    "    \"07\": \"July\",\n",
    "    \"08\": \"August\",\n",
    "    \"09\": \"September\",\n",
    "    \"10\": \"October\",\n",
    "    \"11\": \"November\",\n",
    "    \"12\": \"December\"\n",
    "}\n",
    "# Define a function to extract metadata\n",
    "def extract_month_metadata(file_path):\n",
    "    # Extract month from file name or content\n",
    "    month = file_path.split('/')[-1].split('.')[0]  # Assuming file name format like 'statement_01.pdf'\n",
    "    month_name = month_mapping.get(month, \"Invalid month\")\n",
    "    print(month_name)\n",
    "    return {\"month\": month_name}\n",
    "\n",
    "# Load documents with metadata\n",
    "reader = SimpleDirectoryReader(input_dir=\"../data/output/\", file_metadata=extract_month_metadata)\n",
    "documents = reader.load_data()\n",
    "\n",
    "# Create an index with the documents\n",
    "index = VectorStoreIndex.from_documents(documents)\n",
    "index.storage_context.persist(persist_dir=\"../indexes\")"
   ]
  },
  {
   "cell_type": "code",
   "execution_count": 10,
   "metadata": {},
   "outputs": [],
   "source": [
    "from llama_index.llms.ollama import Ollama\n",
    "\n",
    "Settings.llm = Ollama(model=\"llama3.2:3b\",\n",
    "                      temperature=0.1,\n",
    "                      system_prompt=\"You are a financial assistant, you help with analyzing the bank transactions\\\n",
    "                      . If you are not sure about transaction detail, then you do not give any output and you should say \\\"I cannot aprovide that information\\\"\",\n",
    "                      request_timeout=300.0)"
   ]
  },
  {
   "cell_type": "code",
   "execution_count": 11,
   "metadata": {},
   "outputs": [],
   "source": [
    "from llama_index.core import get_response_synthesizer\n",
    "from llama_index.core.retrievers import VectorIndexRetriever\n",
    "from llama_index.core.query_engine import RetrieverQueryEngine\n",
    "\n",
    "# configure retriever\n",
    "retriever = VectorIndexRetriever(\n",
    "    index=index,\n",
    "    similarity_top_k=2,\n",
    "    verbose=True,\n",
    ")\n",
    "\n",
    "# configure response synthesizer\n",
    "response_synthesizer = get_response_synthesizer(\n",
    "    response_mode=\"compact_accumulate\",\n",
    "    verbose=True,\n",
    ")\n",
    "\n",
    "# assemble query engine\n",
    "query_engine = RetrieverQueryEngine(\n",
    "    retriever=retriever,\n",
    "    response_synthesizer=response_synthesizer,\n",
    ")"
   ]
  },
  {
   "cell_type": "markdown",
   "metadata": {},
   "source": [
    "# Query the LLM and get response"
   ]
  },
  {
   "cell_type": "code",
   "execution_count": 14,
   "metadata": {},
   "outputs": [
    {
     "data": {
      "application/vnd.jupyter.widget-view+json": {
       "model_id": "c8e39249925d4b29b4d79a8c3f599a28",
       "version_major": 2,
       "version_minor": 0
      },
      "text/plain": [
       "Batches:   0%|          | 0/1 [00:00<?, ?it/s]"
      ]
     },
     "metadata": {},
     "output_type": "display_data"
    },
    {
     "name": "stdout",
     "output_type": "stream",
     "text": [
      "INFO:httpx:HTTP Request: POST http://localhost:11434/api/chat \"HTTP/1.1 200 OK\"\n",
      "HTTP Request: POST http://localhost:11434/api/chat \"HTTP/1.1 200 OK\"\n",
      "HTTP Request: POST http://localhost:11434/api/chat \"HTTP/1.1 200 OK\"\n",
      "Response 1: To calculate the total debit and credit for the month of March, we need to sum up the individual debit and credit amounts.\n",
      "\n",
      "Debit amount for March:\n",
      "- UPI/305854390318/202476499: 1,22,400.00\n",
      "- UPI/DR/307847352585/ICCL: 5,000.00\n",
      "- UPI/DR/308153794815/ICCL: 45,000.00\n",
      "- UPI/DR/310720952189/IndianC: 20,000.00\n",
      "- UPI/DR/310720954808/IndianC: 5,000.00\n",
      "\n",
      "Total debit amount for March = 1,22,400 + 5,000 + 45,000 + 20,000 + 5,000 = 2,97,400\n",
      "\n",
      "Credit amount for March:\n",
      "- NEFT*HDFC0000240*N060232: 3,42,366.84\n",
      "- TRANSFER TO (GAPFSJZI5): 45,873.76\n",
      "- DEBIT-CREDIT balance (initial): 3,42,366.84\n",
      "\n",
      "Total credit amount for March = 3,42,366.84 + 45,873.76 = 3,88,240.60\n"
     ]
    }
   ],
   "source": [
    "response = query_engine.query(\"Can you total debit and credit of transactions for month of March?\")\n",
    "print(response)"
   ]
  }
 ],
 "metadata": {
  "kernelspec": {
   "display_name": "Python 3 (ipykernel)",
   "language": "python",
   "name": "python3"
  },
  "language_info": {
   "codemirror_mode": {
    "name": "ipython",
    "version": 3
   },
   "file_extension": ".py",
   "mimetype": "text/x-python",
   "name": "python",
   "nbconvert_exporter": "python",
   "pygments_lexer": "ipython3",
   "version": "3.12.1"
  }
 },
 "nbformat": 4,
 "nbformat_minor": 4
}
